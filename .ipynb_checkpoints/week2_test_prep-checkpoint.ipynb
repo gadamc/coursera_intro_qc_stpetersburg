{
 "cells": [
  {
   "cell_type": "markdown",
   "id": "967e9d13-1ebc-43ca-9e92-788527b8d1e5",
   "metadata": {},
   "source": [
    "Week 2 Test Prep.\n",
    "\n",
    "What circuit diagram corresponds to \n",
    "\n",
    "```\n",
    "A|00> = (|00> + |11>) / sqrt(2) ?\n",
    "\n",
    "zerozero = np.array([1,0,0,0])\n",
    "answer = np.array([1,0,0,1])/np.sqrt(2)\n",
    "```\n",
    "Answer:\n",
    "```\n",
    "|x_1> - [H] - *  - \n",
    "|x_0> -  -  - ^X -\n",
    "```\n",
    "where \n",
    "```\n",
    "   *\n",
    "   ^X\n",
    "```\n",
    "is CNOT."
   ]
  },
  {
   "cell_type": "code",
   "execution_count": 1,
   "id": "2d8f9177-996c-41a4-b114-cbb141455da6",
   "metadata": {},
   "outputs": [],
   "source": [
    "import numpy as np"
   ]
  },
  {
   "cell_type": "code",
   "execution_count": 2,
   "id": "a0c4dfd9-df82-442d-9a9c-ef7b246088f1",
   "metadata": {},
   "outputs": [],
   "source": [
    "answer = np.array([1,0,0,1])/np.sqrt(2)"
   ]
  },
  {
   "cell_type": "code",
   "execution_count": 3,
   "id": "c9eb2af1-4182-4fec-84d6-d9ab6a153186",
   "metadata": {},
   "outputs": [],
   "source": [
    "i = np.identity(2)"
   ]
  },
  {
   "cell_type": "code",
   "execution_count": 4,
   "id": "cf85375f-b166-4148-ab5a-47eb7479d461",
   "metadata": {},
   "outputs": [],
   "source": [
    "hadamard_one = np.array([[1,1],[1,-1]])/np.sqrt(2)"
   ]
  },
  {
   "cell_type": "markdown",
   "id": "45c8b332-da12-44bb-b8fb-6c96313ed293",
   "metadata": {},
   "source": [
    "view the circuit as\n",
    "\n",
    "```\n",
    "|x_1> - [H] - *  - \n",
    "|x_0> -  I  - ^X -\n",
    "\n",
    "(H X I)  CNOT\n",
    "\n",
    "CNOT (H X I)|00>\n",
    "```"
   ]
  },
  {
   "cell_type": "code",
   "execution_count": 5,
   "id": "f9800ef7-ba37-400e-9756-14e32e6610b6",
   "metadata": {},
   "outputs": [],
   "source": [
    "hadcrossi = np.kron(hadamard_one,i)"
   ]
  },
  {
   "cell_type": "code",
   "execution_count": 6,
   "id": "049e6650-2488-4863-9493-967121ad5f0d",
   "metadata": {},
   "outputs": [],
   "source": [
    "cnot = np.array([[1,0,0,0],[0,1,0,0],[0,0,0,1],[0,0,1,0]])"
   ]
  },
  {
   "cell_type": "code",
   "execution_count": 49,
   "id": "9aa4c43e-f9d2-4aee-b29c-34f872f27129",
   "metadata": {},
   "outputs": [
    {
     "data": {
      "text/plain": [
       "array([[1, 0, 0, 0],\n",
       "       [0, 1, 0, 0],\n",
       "       [0, 0, 0, 1],\n",
       "       [0, 0, 1, 0]])"
      ]
     },
     "execution_count": 49,
     "metadata": {},
     "output_type": "execute_result"
    }
   ],
   "source": [
    "cnot"
   ]
  },
  {
   "cell_type": "code",
   "execution_count": 7,
   "id": "a89a7807-d6c7-4d60-8f58-fd2ed83766ef",
   "metadata": {},
   "outputs": [],
   "source": [
    "zerozero = np.array([1,0,0,0])"
   ]
  },
  {
   "cell_type": "code",
   "execution_count": 8,
   "id": "ac37dbe5-31e2-4299-9962-08decb2db9ad",
   "metadata": {},
   "outputs": [
    {
     "data": {
      "text/plain": [
       "array([0.70710678, 0.        , 0.        , 0.70710678])"
      ]
     },
     "execution_count": 8,
     "metadata": {},
     "output_type": "execute_result"
    }
   ],
   "source": [
    "np.matmul(cnot, np.matmul(hadcrossi,zerozero))"
   ]
  },
  {
   "cell_type": "markdown",
   "id": "a03d1c6c-92b5-4dd9-86d6-26bea28facd6",
   "metadata": {},
   "source": [
    "^^ looks like the answer  :)"
   ]
  },
  {
   "cell_type": "code",
   "execution_count": 9,
   "id": "2603b2ea-9db8-4fb0-aba4-7d627927d07e",
   "metadata": {},
   "outputs": [
    {
     "data": {
      "text/plain": [
       "array([0.5, 0.5, 0.5, 0.5])"
      ]
     },
     "execution_count": 9,
     "metadata": {},
     "output_type": "execute_result"
    }
   ],
   "source": [
    "np.matmul(np.kron(hadamard_one, hadamard_one), zerozero)"
   ]
  },
  {
   "cell_type": "code",
   "execution_count": 12,
   "id": "f836346f-ba46-44d8-b4cd-9a0acf564573",
   "metadata": {},
   "outputs": [],
   "source": [
    "zero = np.array([1,0])"
   ]
  },
  {
   "cell_type": "code",
   "execution_count": 14,
   "id": "0bbd6867-7919-46c6-85ed-59bb9c12fcaa",
   "metadata": {},
   "outputs": [
    {
     "data": {
      "text/plain": [
       "array([0.5, 0.5, 0.5, 0.5])"
      ]
     },
     "execution_count": 14,
     "metadata": {},
     "output_type": "execute_result"
    }
   ],
   "source": [
    "np.kron(np.matmul(hadamard_one,zero),np.matmul(hadamard_one,zero))"
   ]
  },
  {
   "cell_type": "code",
   "execution_count": 15,
   "id": "1973329b-f8f1-480f-846c-d1c03c46b7b3",
   "metadata": {},
   "outputs": [],
   "source": [
    "one = np.array([0,1])"
   ]
  },
  {
   "cell_type": "code",
   "execution_count": 16,
   "id": "5d93a57a-9ff7-4acc-9f5f-46127720de15",
   "metadata": {},
   "outputs": [
    {
     "data": {
      "text/plain": [
       "array([ 0.5, -0.5, -0.5,  0.5])"
      ]
     },
     "execution_count": 16,
     "metadata": {},
     "output_type": "execute_result"
    }
   ],
   "source": [
    "np.kron(np.matmul(hadamard_one,one),np.matmul(hadamard_one,one))"
   ]
  },
  {
   "cell_type": "code",
   "execution_count": 17,
   "id": "dc44c613-c262-4a4c-a6d6-3749bcd8a6c6",
   "metadata": {},
   "outputs": [
    {
     "data": {
      "text/plain": [
       "array([ 0.5,  0.5, -0.5, -0.5])"
      ]
     },
     "execution_count": 17,
     "metadata": {},
     "output_type": "execute_result"
    }
   ],
   "source": [
    "np.kron(np.matmul(hadamard_one,one),np.matmul(hadamard_one,zero))"
   ]
  },
  {
   "cell_type": "code",
   "execution_count": 18,
   "id": "272c19e8-0f52-454a-8167-33c3be239661",
   "metadata": {},
   "outputs": [
    {
     "data": {
      "text/plain": [
       "array([ 0.5, -0.5,  0.5, -0.5])"
      ]
     },
     "execution_count": 18,
     "metadata": {},
     "output_type": "execute_result"
    }
   ],
   "source": [
    "np.kron(np.matmul(hadamard_one,zero),np.matmul(hadamard_one,one))"
   ]
  },
  {
   "cell_type": "markdown",
   "id": "32b4d482-7d5d-4043-ad97-722df129ff7b",
   "metadata": {},
   "source": [
    "# Question 6\n",
    "\n",
    "Which circuit implements\n",
    "\n",
    "```\n",
    "0 1 0 0 \n",
    "1 0 0 0\n",
    "0 0 1 0\n",
    "0 0 0 1\n",
    "```\n",
    "\n"
   ]
  },
  {
   "cell_type": "code",
   "execution_count": 19,
   "id": "4f1c91b8-fd2b-421d-a666-1b28e4ed47a0",
   "metadata": {},
   "outputs": [],
   "source": [
    "#we can try all of the options of the diagram"
   ]
  },
  {
   "cell_type": "code",
   "execution_count": 20,
   "id": "22b6d2cc-45bf-4a57-8983-38cef84ac391",
   "metadata": {},
   "outputs": [],
   "source": [
    "A = np.array([[0,1,0,0],[1,0,0,0],[0,0,1,0],[0,0,0,1]])"
   ]
  },
  {
   "cell_type": "code",
   "execution_count": 22,
   "id": "6b233243-cd83-4331-b263-81f4aa891311",
   "metadata": {},
   "outputs": [
    {
     "data": {
      "text/plain": [
       "array([1, 0, 0, 0])"
      ]
     },
     "execution_count": 22,
     "metadata": {},
     "output_type": "execute_result"
    }
   ],
   "source": [
    "zerozero"
   ]
  },
  {
   "cell_type": "code",
   "execution_count": 25,
   "id": "c34980d7-e6c8-4454-b0a8-1bd74b7588d0",
   "metadata": {},
   "outputs": [],
   "source": [
    "zeroone = np.array([0,1,0,0])"
   ]
  },
  {
   "cell_type": "code",
   "execution_count": 26,
   "id": "37a0e348-cadd-4ec1-9947-2cec9455dccc",
   "metadata": {},
   "outputs": [],
   "source": [
    "onezero = np.array([0,0,1,0])\n",
    "oneone = np.array([0,0,0,1])"
   ]
  },
  {
   "cell_type": "code",
   "execution_count": 21,
   "id": "ef01f5e2-7bf8-4208-bd10-2d44b5f231af",
   "metadata": {},
   "outputs": [
    {
     "data": {
      "text/plain": [
       "array([0, 1, 0, 0])"
      ]
     },
     "execution_count": 21,
     "metadata": {},
     "output_type": "execute_result"
    }
   ],
   "source": [
    "np.matmul(A, zerozero)  # 00 -> 01  #if NOT x, then NOT y. #this looks like diagram 3"
   ]
  },
  {
   "cell_type": "code",
   "execution_count": 27,
   "id": "7642366a-31c9-4e40-9940-bb59924e1dbe",
   "metadata": {},
   "outputs": [],
   "source": [
    "X =  np.array([[0,1],[1,0]])"
   ]
  },
  {
   "cell_type": "code",
   "execution_count": 29,
   "id": "3c48a194-5269-4447-89d9-41d2c79206b0",
   "metadata": {},
   "outputs": [],
   "source": [
    "cnot = np.array([[1,0,0,0],[0,1,0,0],[0,0,0,1],[0,0,1,0]])"
   ]
  },
  {
   "cell_type": "code",
   "execution_count": 30,
   "id": "56115a79-67fb-4f5a-a2df-0a809e754b9e",
   "metadata": {},
   "outputs": [],
   "source": [
    "Xkroni = np.kron(X,i)"
   ]
  },
  {
   "cell_type": "code",
   "execution_count": 56,
   "id": "113f5584-abc6-4c68-8788-57d6860d13b8",
   "metadata": {},
   "outputs": [
    {
     "data": {
      "text/plain": [
       "array([0., 0., 1., 0.])"
      ]
     },
     "execution_count": 56,
     "metadata": {},
     "output_type": "execute_result"
    }
   ],
   "source": [
    "np.matmul(Xkroni,zerozero) #00 -> 10"
   ]
  },
  {
   "cell_type": "code",
   "execution_count": 57,
   "id": "883cf774-cb40-4aac-82f0-81547c1bb9c3",
   "metadata": {},
   "outputs": [
    {
     "data": {
      "text/plain": [
       "array([0., 0., 0., 1.])"
      ]
     },
     "execution_count": 57,
     "metadata": {},
     "output_type": "execute_result"
    }
   ],
   "source": [
    "np.matmul(Xkroni,zeroone) #01 -> 11"
   ]
  },
  {
   "cell_type": "code",
   "execution_count": 58,
   "id": "eefbff59-3690-4b3f-808a-09266b312c1e",
   "metadata": {},
   "outputs": [
    {
     "data": {
      "text/plain": [
       "array([1., 0., 0., 0.])"
      ]
     },
     "execution_count": 58,
     "metadata": {},
     "output_type": "execute_result"
    }
   ],
   "source": [
    "np.matmul(Xkroni, onezero)# 10 -> 00"
   ]
  },
  {
   "cell_type": "code",
   "execution_count": 59,
   "id": "d503d322-5a31-4d28-97db-b80a7bee7371",
   "metadata": {},
   "outputs": [
    {
     "data": {
      "text/plain": [
       "array([0., 1., 0., 0.])"
      ]
     },
     "execution_count": 59,
     "metadata": {},
     "output_type": "execute_result"
    }
   ],
   "source": [
    "np.matmul(Xkroni, oneone)# 11 -> 10"
   ]
  },
  {
   "cell_type": "code",
   "execution_count": 74,
   "id": "98566659-d3e5-478c-a344-db2964d65c1a",
   "metadata": {},
   "outputs": [
    {
     "data": {
      "text/plain": [
       "array([0., 1., 0., 0.])"
      ]
     },
     "execution_count": 74,
     "metadata": {},
     "output_type": "execute_result"
    }
   ],
   "source": [
    "np.matmul(Xkroni,np.matmul(cnot,np.matmul(Xkroni,zerozero))) #00 -> 01. Same as A * zerzero"
   ]
  },
  {
   "cell_type": "code",
   "execution_count": 76,
   "id": "00d88968-c5dd-4d24-9da9-f1c3f707747b",
   "metadata": {},
   "outputs": [
    {
     "data": {
      "text/plain": [
       "array([1, 0, 0, 0])"
      ]
     },
     "execution_count": 76,
     "metadata": {},
     "output_type": "execute_result"
    }
   ],
   "source": [
    "np.matmul(A, zeroone)# 01 -> 00"
   ]
  },
  {
   "cell_type": "code",
   "execution_count": 77,
   "id": "5bbe7f0f-e067-4c79-aac8-728a36b22b7a",
   "metadata": {},
   "outputs": [
    {
     "data": {
      "text/plain": [
       "array([1., 0., 0., 0.])"
      ]
     },
     "execution_count": 77,
     "metadata": {},
     "output_type": "execute_result"
    }
   ],
   "source": [
    "np.matmul(Xkroni,np.matmul(cnot,np.matmul(Xkroni,zeroone))) #01 -> 00"
   ]
  },
  {
   "cell_type": "code",
   "execution_count": 78,
   "id": "e5b9ce81-e36a-4f42-91e7-b6c7d339ab31",
   "metadata": {},
   "outputs": [
    {
     "data": {
      "text/plain": [
       "array([0, 0, 1, 0])"
      ]
     },
     "execution_count": 78,
     "metadata": {},
     "output_type": "execute_result"
    }
   ],
   "source": [
    "np.matmul(A, onezero)# 10-> 10"
   ]
  },
  {
   "cell_type": "code",
   "execution_count": 79,
   "id": "25822d52-cd67-4001-ab28-0f456de29afe",
   "metadata": {},
   "outputs": [
    {
     "data": {
      "text/plain": [
       "array([0., 0., 1., 0.])"
      ]
     },
     "execution_count": 79,
     "metadata": {},
     "output_type": "execute_result"
    }
   ],
   "source": [
    "np.matmul(Xkroni,np.matmul(cnot,np.matmul(Xkroni,onezero))) # 10-> 10"
   ]
  },
  {
   "cell_type": "code",
   "execution_count": 80,
   "id": "a1a2767c-ce48-44c9-8d9a-171e72844ccd",
   "metadata": {},
   "outputs": [
    {
     "data": {
      "text/plain": [
       "array([0, 0, 0, 1])"
      ]
     },
     "execution_count": 80,
     "metadata": {},
     "output_type": "execute_result"
    }
   ],
   "source": [
    "np.matmul(A, oneone)# 11-> 11"
   ]
  },
  {
   "cell_type": "code",
   "execution_count": 81,
   "id": "954318ba-9049-43b8-8746-b71103a101d8",
   "metadata": {},
   "outputs": [
    {
     "data": {
      "text/plain": [
       "array([0., 0., 0., 1.])"
      ]
     },
     "execution_count": 81,
     "metadata": {},
     "output_type": "execute_result"
    }
   ],
   "source": [
    "np.matmul(Xkroni,np.matmul(cnot,np.matmul(Xkroni,oneone))) # 11-> 11"
   ]
  },
  {
   "cell_type": "markdown",
   "id": "b6822f15-0b76-436b-90cb-4b027a55b0fe",
   "metadata": {},
   "source": [
    "# Question 7\n",
    "\n",
    "Which circuit implements\n",
    "\n",
    "```\n",
    "00 -> (00 + 11)/sqrt(2)\n",
    "```\n",
    "\n",
    "where\n",
    "\n",
    "```\n",
    "(00 + 11)/sqrt(2) =  (1/sqrt(2) , 0 , 0, 1/sqrt(2))\n",
    "```\n"
   ]
  },
  {
   "cell_type": "markdown",
   "id": "5cbd045d-101d-4e20-9b15-741c3ca0cac5",
   "metadata": {},
   "source": [
    "first, define flipcnot, this is \n",
    "\n",
    "```\n",
    "--[X]--\n",
    "-- * -- \n",
    "```"
   ]
  },
  {
   "cell_type": "code",
   "execution_count": 36,
   "id": "8287898a-fb19-40aa-b396-cab16f5046b0",
   "metadata": {},
   "outputs": [],
   "source": [
    "flipcnot = np.array([[1,0,0,0],[0,0,0,1],[0,0,1,0],[0,1,0,0]])"
   ]
  },
  {
   "cell_type": "code",
   "execution_count": 38,
   "id": "4568d103-38ac-4e57-9db7-984d7b655e46",
   "metadata": {},
   "outputs": [
    {
     "data": {
      "text/plain": [
       "array([[1, 0, 0, 0],\n",
       "       [0, 0, 0, 1],\n",
       "       [0, 0, 1, 0],\n",
       "       [0, 1, 0, 0]])"
      ]
     },
     "execution_count": 38,
     "metadata": {},
     "output_type": "execute_result"
    }
   ],
   "source": [
    "flipcnot"
   ]
  },
  {
   "cell_type": "code",
   "execution_count": 41,
   "id": "62abf22e-be4a-48d0-b134-fc6f5d14091f",
   "metadata": {},
   "outputs": [
    {
     "data": {
      "text/plain": [
       "array([1, 0, 0, 0])"
      ]
     },
     "execution_count": 41,
     "metadata": {},
     "output_type": "execute_result"
    }
   ],
   "source": [
    "np.matmul(flipcnot,zerozero)"
   ]
  },
  {
   "cell_type": "code",
   "execution_count": 42,
   "id": "b8dd80e0-7615-4b72-aa3a-c63e332a645e",
   "metadata": {},
   "outputs": [
    {
     "data": {
      "text/plain": [
       "array([0, 0, 0, 1])"
      ]
     },
     "execution_count": 42,
     "metadata": {},
     "output_type": "execute_result"
    }
   ],
   "source": [
    "np.matmul(flipcnot,zeroone) #01 -> 11"
   ]
  },
  {
   "cell_type": "code",
   "execution_count": 44,
   "id": "b787c65f-e815-41c9-81b0-14cb3231fe7b",
   "metadata": {},
   "outputs": [
    {
     "data": {
      "text/plain": [
       "array([0, 0, 1, 0])"
      ]
     },
     "execution_count": 44,
     "metadata": {},
     "output_type": "execute_result"
    }
   ],
   "source": [
    "onezero"
   ]
  },
  {
   "cell_type": "code",
   "execution_count": 43,
   "id": "9524f0a0-b80e-45a6-acc3-aa62748b0bc1",
   "metadata": {},
   "outputs": [
    {
     "data": {
      "text/plain": [
       "array([0, 0, 1, 0])"
      ]
     },
     "execution_count": 43,
     "metadata": {},
     "output_type": "execute_result"
    }
   ],
   "source": [
    "np.matmul(flipcnot,onezero) # 10 -> 10"
   ]
  },
  {
   "cell_type": "code",
   "execution_count": 45,
   "id": "641f65b4-0704-4a2c-b8fc-52e6f9862d07",
   "metadata": {},
   "outputs": [
    {
     "data": {
      "text/plain": [
       "array([0, 1, 0, 0])"
      ]
     },
     "execution_count": 45,
     "metadata": {},
     "output_type": "execute_result"
    }
   ],
   "source": [
    "np.matmul(flipcnot,oneone) # 11 -> 01"
   ]
  },
  {
   "cell_type": "code",
   "execution_count": null,
   "id": "83f12af0-d560-4ede-a1fc-8b8a9a795838",
   "metadata": {},
   "outputs": [],
   "source": [
    "#diagram1"
   ]
  },
  {
   "cell_type": "code",
   "execution_count": 82,
   "id": "5d25d030-9afd-4ca3-9608-2aea77e4ea43",
   "metadata": {},
   "outputs": [
    {
     "data": {
      "text/plain": [
       "array([0.70710678, 0.        , 0.        , 0.70710678])"
      ]
     },
     "execution_count": 82,
     "metadata": {},
     "output_type": "execute_result"
    }
   ],
   "source": [
    "np.matmul(cnot, np.matmul(hadcrossi,zerozero)) #00 -> (00 + 11)/sqrt(2)"
   ]
  },
  {
   "cell_type": "code",
   "execution_count": 83,
   "id": "af1863ea-df2d-4643-a427-dfe909ed21a6",
   "metadata": {},
   "outputs": [],
   "source": [
    "diagram1 = np.matmul(cnot,hadcrossi)"
   ]
  },
  {
   "cell_type": "code",
   "execution_count": 84,
   "id": "71916f7f-9b19-4167-93c5-94abd6e413df",
   "metadata": {},
   "outputs": [
    {
     "data": {
      "text/plain": [
       "array([[ 0.70710678,  0.        ,  0.70710678,  0.        ],\n",
       "       [ 0.        ,  0.70710678,  0.        ,  0.70710678],\n",
       "       [ 0.        ,  0.70710678,  0.        , -0.70710678],\n",
       "       [ 0.70710678,  0.        , -0.70710678,  0.        ]])"
      ]
     },
     "execution_count": 84,
     "metadata": {},
     "output_type": "execute_result"
    }
   ],
   "source": [
    "diagram1"
   ]
  },
  {
   "cell_type": "code",
   "execution_count": 85,
   "id": "e39651da-bfa2-4a90-ae41-2b51280384a8",
   "metadata": {},
   "outputs": [
    {
     "data": {
      "text/plain": [
       "array([0.70710678, 0.        , 0.        , 0.70710678])"
      ]
     },
     "execution_count": 85,
     "metadata": {},
     "output_type": "execute_result"
    }
   ],
   "source": [
    "np.matmul(diagram1,zerozero) #00 -> (00 + 11)/sqrt(2)"
   ]
  },
  {
   "cell_type": "markdown",
   "id": "1164a1d8-f16c-42a8-a9a1-f7261e61211b",
   "metadata": {},
   "source": [
    "Next, we need conditional hadamard\n",
    "\n",
    "```\n",
    "-- * --\n",
    "-- H --\n",
    "```"
   ]
  },
  {
   "cell_type": "code",
   "execution_count": 50,
   "id": "d22e1483-0067-44c8-91f7-30b442c495ee",
   "metadata": {},
   "outputs": [],
   "source": [
    "cHad = np.array([\n",
    "    [1,0,0,0],\n",
    "    [0,1,0,0],\n",
    "    [0,0,1,1]/np.sqrt(2),\n",
    "    [0,0,1,-1]/np.sqrt(2)\n",
    "]) "
   ]
  },
  {
   "cell_type": "code",
   "execution_count": 60,
   "id": "814f20a6-64d2-4054-a7a0-25e20bee0d2e",
   "metadata": {},
   "outputs": [],
   "source": [
    "#check cHad is correct"
   ]
  },
  {
   "cell_type": "code",
   "execution_count": 61,
   "id": "12a55848-2baf-4af1-a5ee-7f1bb030ed0c",
   "metadata": {},
   "outputs": [
    {
     "data": {
      "text/plain": [
       "array([1., 0., 0., 0.])"
      ]
     },
     "execution_count": 61,
     "metadata": {},
     "output_type": "execute_result"
    }
   ],
   "source": [
    "np.matmul(cHad,zerozero)"
   ]
  },
  {
   "cell_type": "code",
   "execution_count": 62,
   "id": "7b7f79ab-0406-4b49-8f32-40f3f294afee",
   "metadata": {},
   "outputs": [
    {
     "data": {
      "text/plain": [
       "array([0., 1., 0., 0.])"
      ]
     },
     "execution_count": 62,
     "metadata": {},
     "output_type": "execute_result"
    }
   ],
   "source": [
    "np.matmul(cHad,zeroone)"
   ]
  },
  {
   "cell_type": "code",
   "execution_count": 63,
   "id": "0e3f2d7e-329d-4c6c-8cfb-c8c3cb2a66f8",
   "metadata": {},
   "outputs": [
    {
     "data": {
      "text/plain": [
       "array([0.        , 0.        , 0.70710678, 0.70710678])"
      ]
     },
     "execution_count": 63,
     "metadata": {},
     "output_type": "execute_result"
    }
   ],
   "source": [
    "np.matmul(cHad, onezero)"
   ]
  },
  {
   "cell_type": "code",
   "execution_count": 64,
   "id": "0af9cf3d-f4a1-43d7-a756-402f337291c1",
   "metadata": {},
   "outputs": [
    {
     "data": {
      "text/plain": [
       "array([ 0.        ,  0.        ,  0.70710678, -0.70710678])"
      ]
     },
     "execution_count": 64,
     "metadata": {},
     "output_type": "execute_result"
    }
   ],
   "source": [
    "np.matmul(cHad, oneone)"
   ]
  },
  {
   "cell_type": "code",
   "execution_count": 90,
   "id": "e15417a5-9ac1-4c9e-9880-307305abe99a",
   "metadata": {},
   "outputs": [],
   "source": [
    "diagram2 = np.matmul(cHad,Xkroni)"
   ]
  },
  {
   "cell_type": "code",
   "execution_count": 91,
   "id": "048feb17-b69c-4fc9-b734-f265d29ccb3b",
   "metadata": {},
   "outputs": [
    {
     "data": {
      "text/plain": [
       "array([[ 0.        ,  0.        ,  1.        ,  0.        ],\n",
       "       [ 0.        ,  0.        ,  0.        ,  1.        ],\n",
       "       [ 0.70710678,  0.70710678,  0.        ,  0.        ],\n",
       "       [ 0.70710678, -0.70710678,  0.        ,  0.        ]])"
      ]
     },
     "execution_count": 91,
     "metadata": {},
     "output_type": "execute_result"
    }
   ],
   "source": [
    "diagram2"
   ]
  },
  {
   "cell_type": "code",
   "execution_count": 92,
   "id": "99026371-3a54-45e4-b2b8-936de00f9d5f",
   "metadata": {},
   "outputs": [
    {
     "data": {
      "text/plain": [
       "array([0.        , 0.        , 0.70710678, 0.70710678])"
      ]
     },
     "execution_count": 92,
     "metadata": {},
     "output_type": "execute_result"
    }
   ],
   "source": [
    "np.matmul(diagram2,zerozero) #00 -> 10"
   ]
  },
  {
   "cell_type": "code",
   "execution_count": 89,
   "id": "844b6b66-9f33-44e9-9add-59c9f2809eba",
   "metadata": {},
   "outputs": [
    {
     "data": {
      "text/plain": [
       "array([0.        , 0.        , 0.70710678, 0.70710678])"
      ]
     },
     "execution_count": 89,
     "metadata": {},
     "output_type": "execute_result"
    }
   ],
   "source": [
    "np.matmul(cHad, np.matmul(Xkroni, zerozero))"
   ]
  },
  {
   "cell_type": "code",
   "execution_count": 94,
   "id": "65365127-8509-406c-90e0-516812b0ae50",
   "metadata": {},
   "outputs": [],
   "source": [
    "diagram3 = np.matmul(flipcnot, np.kron(i,hadamard_one))"
   ]
  },
  {
   "cell_type": "code",
   "execution_count": 95,
   "id": "ff59a0e2-6ed7-47a5-8612-5419c33a981b",
   "metadata": {},
   "outputs": [
    {
     "data": {
      "text/plain": [
       "array([[ 0.70710678,  0.70710678,  0.        ,  0.        ],\n",
       "       [ 0.        ,  0.        ,  0.70710678, -0.70710678],\n",
       "       [ 0.        ,  0.        ,  0.70710678,  0.70710678],\n",
       "       [ 0.70710678, -0.70710678,  0.        ,  0.        ]])"
      ]
     },
     "execution_count": 95,
     "metadata": {},
     "output_type": "execute_result"
    }
   ],
   "source": [
    "diagram3"
   ]
  },
  {
   "cell_type": "code",
   "execution_count": 96,
   "id": "9d18f495-74be-4532-8c9d-d5d3c2e8459e",
   "metadata": {},
   "outputs": [
    {
     "data": {
      "text/plain": [
       "array([0.70710678, 0.        , 0.        , 0.70710678])"
      ]
     },
     "execution_count": 96,
     "metadata": {},
     "output_type": "execute_result"
    }
   ],
   "source": [
    "np.matmul(diagram3,zerozero) #00 -> (00 + 11)/sqrt(2)"
   ]
  },
  {
   "cell_type": "code",
   "execution_count": 97,
   "id": "08d9c834-7f74-4c58-9aeb-de740e07dd1a",
   "metadata": {},
   "outputs": [
    {
     "data": {
      "text/plain": [
       "array([0.70710678, 0.        , 0.        , 0.70710678])"
      ]
     },
     "execution_count": 97,
     "metadata": {},
     "output_type": "execute_result"
    }
   ],
   "source": [
    "#let's check this\n",
    "np.matmul(flipcnot, np.matmul(np.kron(i,hadamard_one),zerozero))"
   ]
  },
  {
   "cell_type": "code",
   "execution_count": 98,
   "id": "c0736cd2-f40a-422f-88a6-d3e0d69a31eb",
   "metadata": {},
   "outputs": [],
   "source": [
    "#diagram 4, for fun"
   ]
  },
  {
   "cell_type": "code",
   "execution_count": 99,
   "id": "3bec45b5-f0d9-4f0c-9cd8-c0bfe13ff6e7",
   "metadata": {},
   "outputs": [],
   "source": [
    "diagram4 = np.matmul(flipcnot, np.kron(i,X))"
   ]
  },
  {
   "cell_type": "code",
   "execution_count": 100,
   "id": "284314af-0efe-481b-866e-0144174494f3",
   "metadata": {},
   "outputs": [
    {
     "data": {
      "text/plain": [
       "array([0., 0., 0., 1.])"
      ]
     },
     "execution_count": 100,
     "metadata": {},
     "output_type": "execute_result"
    }
   ],
   "source": [
    "np.matmul(diagram4, zerozero) #00 -> 11"
   ]
  },
  {
   "cell_type": "code",
   "execution_count": null,
   "id": "6a92e6d6-d0fe-41d6-a53e-64c1ee8428a3",
   "metadata": {},
   "outputs": [],
   "source": []
  }
 ],
 "metadata": {
  "kernelspec": {
   "display_name": "Python 3",
   "language": "python",
   "name": "python3"
  },
  "language_info": {
   "codemirror_mode": {
    "name": "ipython",
    "version": 3
   },
   "file_extension": ".py",
   "mimetype": "text/x-python",
   "name": "python",
   "nbconvert_exporter": "python",
   "pygments_lexer": "ipython3",
   "version": "3.8.10"
  }
 },
 "nbformat": 4,
 "nbformat_minor": 5
}
