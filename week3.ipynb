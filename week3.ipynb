{
 "cells": [
  {
   "cell_type": "code",
   "execution_count": 1,
   "id": "7d5d6c6f-da8d-4124-8154-c44de8c9873b",
   "metadata": {},
   "outputs": [],
   "source": [
    "import numpy as np"
   ]
  },
  {
   "cell_type": "code",
   "execution_count": 2,
   "id": "ee7d19c2-c987-47ec-bb73-17929faf87c9",
   "metadata": {},
   "outputs": [],
   "source": [
    "n = 3\n",
    "nbni = np.identity(n)"
   ]
  },
  {
   "cell_type": "code",
   "execution_count": null,
   "id": "577e2cfe-6b77-41d0-b6d4-b001092e2dfb",
   "metadata": {},
   "outputs": [],
   "source": []
  }
 ],
 "metadata": {
  "kernelspec": {
   "display_name": "Python 3",
   "language": "python",
   "name": "python3"
  },
  "language_info": {
   "codemirror_mode": {
    "name": "ipython",
    "version": 3
   },
   "file_extension": ".py",
   "mimetype": "text/x-python",
   "name": "python",
   "nbconvert_exporter": "python",
   "pygments_lexer": "ipython3",
   "version": "3.8.10"
  }
 },
 "nbformat": 4,
 "nbformat_minor": 5
}
