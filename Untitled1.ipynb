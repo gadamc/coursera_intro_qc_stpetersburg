{
 "cells": [
  {
   "cell_type": "code",
   "execution_count": 1,
   "id": "c5e6c8f5-362c-41ea-9205-60c6b4884653",
   "metadata": {},
   "outputs": [],
   "source": [
    "import numpy as np"
   ]
  },
  {
   "cell_type": "code",
   "execution_count": 2,
   "id": "608fb248-7383-45f6-8ac9-50f5a40d6ad5",
   "metadata": {},
   "outputs": [],
   "source": [
    "zero = np.array([1,0])\n",
    "one = np.array([0,1])"
   ]
  },
  {
   "cell_type": "code",
   "execution_count": 13,
   "id": "0a3f8f48-9b6c-4d1c-aeb2-abc366e65831",
   "metadata": {},
   "outputs": [],
   "source": [
    "q_0 = one\n",
    "q_1 = zero\n",
    "q_2 = zero"
   ]
  },
  {
   "cell_type": "code",
   "execution_count": 7,
   "id": "59a27e08-bb24-4210-859c-8707ca0d3dbe",
   "metadata": {},
   "outputs": [
    {
     "data": {
      "text/plain": [
       "array([1, 0, 0, 0, 0, 0, 0, 0])"
      ]
     },
     "execution_count": 7,
     "metadata": {},
     "output_type": "execute_result"
    }
   ],
   "source": [
    "np.kron(zero, np.kron(zero, zero))"
   ]
  },
  {
   "cell_type": "code",
   "execution_count": 14,
   "id": "430b8c87-fa30-4353-97c0-6e0140d636f2",
   "metadata": {},
   "outputs": [
    {
     "data": {
      "text/plain": [
       "array([0, 1, 0, 0, 0, 0, 0, 0])"
      ]
     },
     "execution_count": 14,
     "metadata": {},
     "output_type": "execute_result"
    }
   ],
   "source": [
    "np.kron(q_2, np.kron(q_1, q_0))"
   ]
  },
  {
   "cell_type": "code",
   "execution_count": 15,
   "id": "caffa82b-5472-4306-aeb5-0e25add42948",
   "metadata": {},
   "outputs": [
    {
     "data": {
      "text/plain": [
       "array([0, 0, 1, 0, 0, 0, 0, 0])"
      ]
     },
     "execution_count": 15,
     "metadata": {},
     "output_type": "execute_result"
    }
   ],
   "source": [
    "q_0 = zero\n",
    "q_1 = one\n",
    "q_2 = zero\n",
    "np.kron(q_2, np.kron(q_1, q_0))"
   ]
  },
  {
   "cell_type": "code",
   "execution_count": 16,
   "id": "5742c42d-996b-402e-8737-f5dbfae52da6",
   "metadata": {},
   "outputs": [
    {
     "data": {
      "text/plain": [
       "array([0, 1, 0, 0, 0, 0, 0, 0])"
      ]
     },
     "execution_count": 16,
     "metadata": {},
     "output_type": "execute_result"
    }
   ],
   "source": [
    "q_0 = one\n",
    "q_1 = zero\n",
    "q_2 = zero\n",
    "np.kron(q_2, np.kron(q_1, q_0))"
   ]
  },
  {
   "cell_type": "code",
   "execution_count": 18,
   "id": "13c6be25-dd60-4df0-8cd8-bde36e361577",
   "metadata": {},
   "outputs": [
    {
     "data": {
      "text/plain": [
       "array([1, 0, 0, 0, 0, 0, 0, 0])"
      ]
     },
     "execution_count": 18,
     "metadata": {},
     "output_type": "execute_result"
    }
   ],
   "source": [
    "q_0 = zero\n",
    "q_1 = zero\n",
    "q_2 = zero\n",
    "np.kron(q_0, np.kron(q_1, q_2))"
   ]
  },
  {
   "cell_type": "code",
   "execution_count": 30,
   "id": "10ae2e1c-4418-4f51-b80b-d525a4c76a50",
   "metadata": {},
   "outputs": [
    {
     "data": {
      "text/plain": [
       "array([0, 0, 0, 0, 0, 0, 0, 1])"
      ]
     },
     "execution_count": 30,
     "metadata": {},
     "output_type": "execute_result"
    }
   ],
   "source": [
    "q_0 = one\n",
    "q_1 = one\n",
    "q_2 = one\n",
    "np.kron(q_2, np.kron(q_1, q_0))"
   ]
  },
  {
   "cell_type": "code",
   "execution_count": 31,
   "id": "8097d381-4552-425b-85d7-d5653bba8556",
   "metadata": {},
   "outputs": [
    {
     "data": {
      "text/plain": [
       "array([0, 0, 0, 0, 1, 0, 0, 0])"
      ]
     },
     "execution_count": 31,
     "metadata": {},
     "output_type": "execute_result"
    }
   ],
   "source": [
    "q_0 = zero\n",
    "q_1 = zero\n",
    "q_2 = one\n",
    "np.kron(q_2, np.kron(q_1, q_0))"
   ]
  },
  {
   "cell_type": "code",
   "execution_count": 32,
   "id": "41af9d9e-94b9-4e81-9078-b91138e02403",
   "metadata": {},
   "outputs": [
    {
     "ename": "IndentationError",
     "evalue": "expected an indented block (3977713185.py, line 1)",
     "output_type": "error",
     "traceback": [
      "\u001b[0;36m  File \u001b[0;32m\"/var/folders/lj/tnjgtdfx2_s4ql_skr36436cf7_p5z/T/ipykernel_99590/3977713185.py\"\u001b[0;36m, line \u001b[0;32m1\u001b[0m\n\u001b[0;31m    class singleExcitation:\u001b[0m\n\u001b[0m                           ^\u001b[0m\n\u001b[0;31mIndentationError\u001b[0m\u001b[0;31m:\u001b[0m expected an indented block\n"
     ]
    }
   ],
   "source": [
    "def singleExcitation(theta):\n",
    "    r = np.eye(4)"
   ]
  },
  {
   "cell_type": "code",
   "execution_count": null,
   "id": "f54fdd68-589e-4aaf-843f-12c23527737e",
   "metadata": {},
   "outputs": [],
   "source": []
  }
 ],
 "metadata": {
  "kernelspec": {
   "display_name": "Python 3 (ipykernel)",
   "language": "python",
   "name": "python3"
  },
  "language_info": {
   "codemirror_mode": {
    "name": "ipython",
    "version": 3
   },
   "file_extension": ".py",
   "mimetype": "text/x-python",
   "name": "python",
   "nbconvert_exporter": "python",
   "pygments_lexer": "ipython3",
   "version": "3.9.7"
  }
 },
 "nbformat": 4,
 "nbformat_minor": 5
}
