{
 "cells": [
  {
   "cell_type": "code",
   "execution_count": 1,
   "id": "96b243b3-6e7b-4c91-a97d-0f21eb85ff34",
   "metadata": {},
   "outputs": [],
   "source": [
    "# A simple Python3 program \n",
    "# to calculate Euler's \n",
    "# Totient Function \n",
    "  \n",
    "# Function to return \n",
    "# gcd of a and b \n",
    "def gcd(a, b): \n",
    "  \n",
    "    if (a == 0): \n",
    "        return b \n",
    "    return gcd(b % a, a) \n",
    "  \n",
    "# A simple method to evaluate \n",
    "# Euler Totient Function \n",
    "def phi(n, verbose=False, notphi=False): \n",
    "  \n",
    "    result = 1 \n",
    "    for i in range(2, n): \n",
    "        if ( (gcd(i, n) == 1) != notphi): \n",
    "            if verbose: \n",
    "                print(i) \n",
    "            result+=1 \n",
    "    return result "
   ]
  },
  {
   "cell_type": "code",
   "execution_count": 5,
   "id": "af8a810a-3871-497c-88cd-d4d638122b49",
   "metadata": {},
   "outputs": [],
   "source": [
    "p = 11\n",
    "q = 13"
   ]
  },
  {
   "cell_type": "code",
   "execution_count": 6,
   "id": "9588d25e-4a8c-4b7a-aefe-3c86a83cf240",
   "metadata": {},
   "outputs": [],
   "source": [
    "N = p*q"
   ]
  },
  {
   "cell_type": "code",
   "execution_count": 11,
   "id": "a45bb468-be99-4260-86e2-71c345b40a09",
   "metadata": {},
   "outputs": [
    {
     "data": {
      "text/plain": [
       "264"
      ]
     },
     "execution_count": 11,
     "metadata": {},
     "output_type": "execute_result"
    }
   ],
   "source": [
    "phi(299)"
   ]
  },
  {
   "cell_type": "code",
   "execution_count": 18,
   "id": "ce9d6149-2fb2-4b14-b9cd-89e56c73db8f",
   "metadata": {},
   "outputs": [
    {
     "data": {
      "text/plain": [
       "2311"
      ]
     },
     "execution_count": 18,
     "metadata": {},
     "output_type": "execute_result"
    }
   ],
   "source": [
    "ar2p1 = 7533861 + 1\n",
    "ar2m1 = 7533861 - 1\n",
    "N = 11409407\n",
    "gcd(ar2m1, N)"
   ]
  },
  {
   "cell_type": "code",
   "execution_count": 22,
   "id": "359e9a72-faea-48c7-b463-892b41d9ea2b",
   "metadata": {},
   "outputs": [
    {
     "data": {
      "text/plain": [
       "4.352941176470588"
      ]
     },
     "execution_count": 22,
     "metadata": {},
     "output_type": "execute_result"
    }
   ],
   "source": [
    "74/17"
   ]
  },
  {
   "cell_type": "code",
   "execution_count": 25,
   "id": "041d488c-9865-4da0-a0b9-adb27196bdb1",
   "metadata": {},
   "outputs": [
    {
     "data": {
      "text/plain": [
       "6"
      ]
     },
     "execution_count": 25,
     "metadata": {},
     "output_type": "execute_result"
    }
   ],
   "source": [
    "74 % 17"
   ]
  },
  {
   "cell_type": "code",
   "execution_count": 49,
   "id": "1cbafbb0-3b1a-403b-af91-b9df893b9f72",
   "metadata": {},
   "outputs": [
    {
     "data": {
      "text/plain": [
       "-0.0016741071428570953"
      ]
     },
     "execution_count": 49,
     "metadata": {},
     "output_type": "execute_result"
    }
   ],
   "source": [
    "9/14 - 165/256"
   ]
  },
  {
   "cell_type": "code",
   "execution_count": 35,
   "id": "bbed2f0b-b641-4dc6-adfd-e6b90b1aa3a4",
   "metadata": {},
   "outputs": [
    {
     "data": {
      "text/plain": [
       "0.001953125"
      ]
     },
     "execution_count": 35,
     "metadata": {},
     "output_type": "execute_result"
    }
   ],
   "source": [
    "1/512"
   ]
  },
  {
   "cell_type": "code",
   "execution_count": 8,
   "id": "50d9a322-877d-4d79-917c-62d8ad1022f5",
   "metadata": {},
   "outputs": [
    {
     "name": "stdout",
     "output_type": "stream",
     "text": [
      "2\n",
      "3\n",
      "4\n",
      "5\n",
      "6\n",
      "7\n",
      "8\n",
      "9\n",
      "10\n",
      "12\n",
      "14\n",
      "15\n",
      "16\n",
      "17\n",
      "18\n",
      "19\n",
      "20\n",
      "21\n",
      "23\n",
      "24\n",
      "25\n",
      "27\n",
      "28\n",
      "29\n",
      "30\n",
      "31\n",
      "32\n",
      "34\n",
      "35\n",
      "36\n",
      "37\n",
      "38\n",
      "40\n",
      "41\n",
      "42\n",
      "43\n",
      "45\n",
      "46\n",
      "47\n",
      "48\n",
      "49\n",
      "50\n",
      "51\n",
      "53\n",
      "54\n",
      "56\n",
      "57\n",
      "58\n",
      "59\n",
      "60\n",
      "61\n",
      "62\n",
      "63\n",
      "64\n",
      "67\n",
      "68\n",
      "69\n",
      "70\n",
      "71\n",
      "72\n",
      "73\n",
      "74\n",
      "75\n",
      "76\n",
      "79\n",
      "80\n",
      "81\n",
      "82\n",
      "83\n",
      "84\n",
      "85\n",
      "86\n",
      "87\n",
      "89\n",
      "90\n",
      "92\n",
      "93\n",
      "94\n",
      "95\n",
      "96\n",
      "97\n",
      "98\n",
      "100\n",
      "101\n",
      "102\n",
      "103\n",
      "105\n",
      "106\n",
      "107\n",
      "108\n",
      "109\n",
      "111\n",
      "112\n",
      "113\n",
      "114\n",
      "115\n",
      "116\n",
      "118\n",
      "119\n",
      "120\n",
      "122\n",
      "123\n",
      "124\n",
      "125\n",
      "126\n",
      "127\n",
      "128\n",
      "129\n",
      "131\n",
      "133\n",
      "134\n",
      "135\n",
      "136\n",
      "137\n",
      "138\n",
      "139\n",
      "140\n",
      "141\n",
      "142\n"
     ]
    },
    {
     "data": {
      "text/plain": [
       "120"
      ]
     },
     "execution_count": 8,
     "metadata": {},
     "output_type": "execute_result"
    }
   ],
   "source": [
    "phi(N,True)"
   ]
  },
  {
   "cell_type": "code",
   "execution_count": 9,
   "id": "cdedae81-c238-411a-afbc-1e02220a3d6a",
   "metadata": {},
   "outputs": [
    {
     "name": "stdout",
     "output_type": "stream",
     "text": [
      "11\n",
      "13\n",
      "22\n",
      "26\n",
      "33\n",
      "39\n",
      "44\n",
      "52\n",
      "55\n",
      "65\n",
      "66\n",
      "77\n",
      "78\n",
      "88\n",
      "91\n",
      "99\n",
      "104\n",
      "110\n",
      "117\n",
      "121\n",
      "130\n",
      "132\n"
     ]
    },
    {
     "data": {
      "text/plain": [
       "23"
      ]
     },
     "execution_count": 9,
     "metadata": {},
     "output_type": "execute_result"
    }
   ],
   "source": [
    "phi(N,True,True) #these are the numbers that are NOT coprime to N. Notice they are all multiples of p or q"
   ]
  },
  {
   "cell_type": "code",
   "execution_count": 10,
   "id": "09bab024-af58-40b4-9232-c46b0fbf3889",
   "metadata": {},
   "outputs": [
    {
     "data": {
      "text/plain": [
       "1"
      ]
     },
     "execution_count": 10,
     "metadata": {},
     "output_type": "execute_result"
    }
   ],
   "source": [
    "gcd(7,N)"
   ]
  },
  {
   "cell_type": "code",
   "execution_count": null,
   "id": "1865b152-3433-40d3-aaf5-37dffbd64c28",
   "metadata": {},
   "outputs": [],
   "source": []
  }
 ],
 "metadata": {
  "kernelspec": {
   "display_name": "Python 3 (ipykernel)",
   "language": "python",
   "name": "python3"
  },
  "language_info": {
   "codemirror_mode": {
    "name": "ipython",
    "version": 3
   },
   "file_extension": ".py",
   "mimetype": "text/x-python",
   "name": "python",
   "nbconvert_exporter": "python",
   "pygments_lexer": "ipython3",
   "version": "3.9.7"
  }
 },
 "nbformat": 4,
 "nbformat_minor": 5
}
